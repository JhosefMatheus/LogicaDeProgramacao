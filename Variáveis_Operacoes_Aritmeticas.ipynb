{
 "cells": [
  {
   "cell_type": "markdown",
   "metadata": {},
   "source": [
    "Atividade 01: Soma!\r\n",
    "\r\n",
    "Construa um algoritmo que receberá 2 números inteiros e fará a soma desses números. Ao final, faz a impressão do resultado obtido."
   ]
  },
  {
   "cell_type": "code",
   "execution_count": 3,
   "metadata": {},
   "outputs": [
    {
     "output_type": "stream",
     "name": "stdout",
     "text": [
      "4\n"
     ]
    }
   ],
   "source": [
<<<<<<< HEAD:EstruturasDeDecisão.ipynb
    "n1 = int(input('digite um numero aqui: '))\n",
    "n2 = int(input('digite outro numero aqui: '))\n",
    "soma = n1+n2\n",
    "print(soma)"
=======
    "<b>Trabalhando Com Variáveis!</b>\n",
    "\n",
    "Agora que você já sabe como exibir algo na tela através do comando print() vamos aprender como lidar com variáveis.\n",
    "\n",
    "Variáveis são usadas pra tudo na programação. Sabe essa barra de tarefas aí no seu computador que exibe alguns aplicativos que você colocou aí? Isso é uma variável. \n",
    "\n",
    "A variável é um espaço que nós reservamos na memória do computador para guardar uma informação qualquer. Podemos dizer que a variável é como uma estante onde nós guardamos livros, onde a estante é nossa variável, e o objeto/item que nós queremos guardar na nossa estante são os livros.\n",
    "\n",
    "Nós declaramos uma variável colocando o nome dela, o caractere =, e o valor que a mesma vai receber. Você verá alguns exemplos abaixo, então não se avexe.\n",
    "\n",
    "As variáveis podem armazenar diversos tipos de dados, mas vamos focar em três tipos: inteiro (int), decimal/ponto flutuante(float) e cadeia de caracteres/string (str).\n",
    "\n",
    "Uma variável do tipo inteiro é uma variável que contém um número inteiro dentro dela. Exemplos:\n",
    "\n",
    "<blockquote><code>numero = 18<br>altura_cm = 180<br>idade = 19</code></blockquote>\n",
    "\n",
    "Uma variável do tipo decimal (float) é uma variável que contéum um número decimal dentro da mesma. Exemplos:\n",
    "\n",
    "<blockquote><code>altura_m = 1.80<br>imc = 1.50<br>nota = 7.5</code></blockquote>\n",
    "\n",
    "OBS: se nós declararmos dentro de uma variável o valor 1.0, ela será do tipo float e não do tipo int.\n",
    "\n",
    "Por fim nós temos as variáveis do tipo string (str) que nada mais são do que palavras circundadas de aspas. Exemplos:\n",
    "\n",
    "<blockquote><code>nome = 'Jhosef'<br>sobrenome = 'Matheus'<br>bairro = 'Candelária'</code></blockquote>\n",
    "\n",
    "OBS: as strings podem ser declaradas tanto com aspas simples, como foi feito no exemplo acima, como com aspas duplas, e se nós declararmos um número inteiro/float circundado por aspas ele também será uma string e não um número inteiro ou float.\n",
    "\n",
    "Por fim nós também podemos exibir os valores que estão dentro dessas variáveis com o comando print(), basta colocar dentro dos parênteses do comando print a variável que você deseja exibir.\n",
    "\n",
    "<b>Operações Aritméticas Com Python!</b>\n",
    "\n",
    "As operações aritméticas em python são muito simples, caso você deseje somar dois números/variáveis basta fazer variavel_1 + variavel_2. O mesmo vale para subtração divisão e multiplicação.\n",
    "\n",
    "Abaixo vai uma tabela para você se orientar e saber qual sinal representa cada operação e o que cada um faz:\n",
    "\n",
    "<blockquote>Soma: + (Soma normal)<br>\n",
    "Subtração: - (Subtração normal)<br>\n",
    "Multiplicação: * (Multiplicação normal)<br>\n",
    "Divisão: / (Divisão normal)<br>\n",
    "Divisão inteira: // (Retorna como resultado da operação apenas a parte inteira do resultado da divisão)<br>\n",
    "Resto da divisão: % (Retorna como resultado o resto da divisão entre dois números)</blockquote>\n"
>>>>>>> b65069dfb690075a97de365c46217448077e6e25:Variáveis_Operacoes_Aritmeticas.ipynb
   ]
  },
  {
   "cell_type": "markdown",
   "metadata": {},
   "source": [
    "Atividade 02: Subtração!\r\n",
    "\r\n",
    "Construa um algoritmo que receberá 2 números inteiros e fará a subtração desses números. Ao final, faz a impressão do resultado obtido."
   ]
  },
  {
   "cell_type": "code",
   "execution_count": 4,
   "metadata": {},
   "outputs": [
    {
     "output_type": "stream",
     "name": "stdout",
     "text": [
      "1\n"
     ]
    }
   ],
   "source": [
    "n1 = int(input('digite um numero aqui: '))\n",
    "n2 = int(input('digete outro numero aqui: '))\n",
    "sub = n1-n2\n",
    "print(sub)"
   ]
  },
  {
   "cell_type": "markdown",
   "metadata": {},
   "source": [
    "Atividade 03: Multiplicação!\r\n",
    "\r\n",
    "Construa um algoritmo que receberá 3 números inteiros (x1, x2 e x3) e que, em seguida, realizará a multiplicação desses números. Ao final, escreva o resultado (r) obtido no seguinte formato:\r\n",
    "\r\n",
    "O resultado da multiplicação de x1*x2*x3 é r."
   ]
  },
  {
   "cell_type": "code",
   "execution_count": 5,
   "metadata": {},
   "outputs": [
    {
     "output_type": "stream",
     "name": "stdout",
     "text": [
      "6\n"
     ]
    }
   ],
   "source": [
    "n1 = int(input('digite um numero aqui: '))\n",
    "n2 = int(input('digite outro numero aqui: '))\n",
    "n3 = int(input('digite outro numero aqui: '))\n",
    "multi = n1*n2*n3\n",
    "print(multi)"
   ]
  },
  {
   "cell_type": "markdown",
   "metadata": {},
   "source": [
    "Atividade 04: Multiplicação e Divisão!\r\n",
    "\r\n",
    "Construa um algoritmo que receberá 2 números reais (ponto flutuante) e que, em seguida, calcula a média entre eles. Ao final, escreva o resultado obtido no seguinte formato:\r\n",
    "\r\n",
    "A média entre os números X e Y é R."
   ]
  },
  {
   "cell_type": "code",
   "execution_count": 18,
   "metadata": {},
   "outputs": [
    {
     "output_type": "stream",
     "name": "stdout",
     "text": [
      "a media entre os numeros 3.2 e 2.1 é 2.6500000000000004\n"
     ]
    }
   ],
   "source": [
    "X = float(input('digite um numero aqui: '))\n",
    "Y = float(input('digite outro numero aqui: '))\n",
    "media = (X+Y)/2\n",
    "print(f'a media entre os numeros {X} e {Y} é {media}')"
   ]
  },
  {
   "cell_type": "markdown",
   "metadata": {},
   "source": [
    "Atividade 05: Multiplicação e Divisão 2!\r\n",
    "\r\n",
    "Construa um algoritmo que receberá 3 números reais (x, y, e z). Em seguida, realize o seguinte cálculo:\r\n",
    "\r\n",
    "Fórmula: w = (x*y)/z\r\n",
    "\r\n",
    "O primeiro número (x) deverá multiplicar o segundo (y), e o resultado dessa multiplicação deverá ser dividido pelo terceiro número (z). Ao final, escreva o resultado obtido no seguinte formato:\r\n",
    "\r\n",
    "O resultado da expressão é w."
   ]
  },
  {
   "cell_type": "code",
   "execution_count": 23,
   "metadata": {},
   "outputs": [
    {
     "output_type": "stream",
     "name": "stdout",
     "text": [
      "o resultado da expressão 6.6\n"
     ]
    }
   ],
   "source": [
    "X = float(input('digite um numero aqui: '))\n",
    "Y = float(input('digite outro numero aqui: '))\n",
    "Z = float(input('digite outro numero aqui: '))\n",
    "formula = (X*Y)/Z\n",
    "print(f'o resultado da expressão {formula}')"
   ]
  },
  {
   "cell_type": "markdown",
   "metadata": {},
   "source": [
    "Atividade 06: Multiplicação e Divisão 3!\r\n",
    "\r\n",
    "Construa um algoritmo que receberá 3 números reais (ponto flutuante). Em seguida, calcule a média entre esses três números. Ao final, realize apenas a impressão do resultado obtido."
   ]
  },
  {
   "cell_type": "code",
   "execution_count": 21,
   "metadata": {},
   "outputs": [
    {
     "output_type": "stream",
     "name": "stdout",
     "text": [
      "3.3000000000000003\n"
     ]
    }
   ],
   "source": [
    "n1 = float(input('digite um numero aqui: '))\n",
    "n2 = float(input('digite outro numero aqui: '))\n",
    "n3 = float(input('digite outro numero aqui: '))\n",
    "media = (n1+n2+n3)/3\n",
    "print(media)"
   ]
  },
  {
   "cell_type": "markdown",
   "metadata": {},
   "source": [
    "Atividade 07: Multiplicação e Divisão 4!\r\n",
    "\r\n",
    "Construa um algoritmo que receberá 3 números reais. Em seguida, calcula a média ponderada desses três números. Ao final, realize a impressão do resultado obtido. A fórmula dessa média é a seguinte:\r\n",
    "\r\n",
    "media = (nota1*4 + nota2*5 + nota3*6)/15\r\n",
    "\r\n",
    "Observe que o primeiro número (nota1) deverá ser multiplicado por 4, em seguida, o segundo número (nota2) deverá ser multiplicado por 5 e, então, o terceiro número (nota3) deverá ser multiplicado por 6. Essas multiplicações deverão ser somadas e o resultado dessa soma será divido por 15."
   ]
  },
  {
   "cell_type": "code",
   "execution_count": 24,
   "metadata": {},
   "outputs": [
    {
     "output_type": "stream",
     "name": "stdout",
     "text": [
      "3.1333333333333333\n"
     ]
    }
   ],
   "source": [
    "n1 = float(input('digte um numero aqui: '))\n",
    "n2 = float(input('digite outro numero aqui: '))\n",
    "n3 = float(input('digite outro numero aqui: '))\n",
    "media = (n1*4+n2*5+n3*6)/15\n",
    "print(media)"
   ]
  },
  {
   "cell_type": "code",
   "execution_count": null,
   "metadata": {},
   "outputs": [],
   "source": []
  }
 ],
 "metadata": {
  "kernelspec": {
   "name": "python385jvsc74a57bd07a542ca580817fc4dd55327026e074e2fa0cd470fc5dee9350c2d8b13822db8d",
   "display_name": "Python 3.8.5 32-bit"
  },
  "language_info": {
   "name": "python",
   "version": "3.8.5-final"
  },
  "orig_nbformat": 2,
  "metadata": {
   "interpreter": {
    "hash": "7a542ca580817fc4dd55327026e074e2fa0cd470fc5dee9350c2d8b13822db8d"
   }
  }
 },
 "nbformat": 4,
 "nbformat_minor": 2
}