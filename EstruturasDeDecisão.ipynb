{
 "cells": [
  {
   "cell_type": "markdown",
   "metadata": {},
   "source": [
    "Atividade 01: Soma!\r\n",
    "\r\n",
    "Construa um algoritmo que receberá 2 números inteiros e fará a soma desses números. Ao final, faz a impressão do resultado obtido."
   ]
  },
  {
   "cell_type": "code",
   "execution_count": 3,
   "metadata": {},
   "outputs": [
    {
     "output_type": "stream",
     "name": "stdout",
     "text": [
      "4\n"
     ]
    }
   ],
   "source": [
    "n1 = int(input('digite um numero aqui: '))\n",
    "n2 = int(input('digite outro numero aqui: '))\n",
    "soma = n1+n2\n",
    "print(soma)"
   ]
  },
  {
   "cell_type": "markdown",
   "metadata": {},
   "source": [
    "Atividade 02: Subtração!\r\n",
    "\r\n",
    "Construa um algoritmo que receberá 2 números inteiros e fará a subtração desses números. Ao final, faz a impressão do resultado obtido."
   ]
  },
  {
   "cell_type": "code",
   "execution_count": 4,
   "metadata": {},
   "outputs": [
    {
     "output_type": "stream",
     "name": "stdout",
     "text": [
      "1\n"
     ]
    }
   ],
   "source": [
    "n1 = int(input('digite um numero aqui: '))\n",
    "n2 = int(input('digete outro numero aqui: '))\n",
    "sub = n1-n2\n",
    "print(sub)"
   ]
  },
  {
   "cell_type": "markdown",
   "metadata": {},
   "source": [
    "Atividade 03: Multiplicação!\r\n",
    "\r\n",
    "Construa um algoritmo que receberá 3 números inteiros (x1, x2 e x3) e que, em seguida, realizará a multiplicação desses números. Ao final, escreva o resultado (r) obtido no seguinte formato:\r\n",
    "\r\n",
    "O resultado da multiplicação de x1*x2*x3 é r."
   ]
  },
  {
   "cell_type": "code",
   "execution_count": 5,
   "metadata": {},
   "outputs": [
    {
     "output_type": "stream",
     "name": "stdout",
     "text": [
      "6\n"
     ]
    }
   ],
   "source": [
    "n1 = int(input('digite um numero aqui: '))\n",
    "n2 = int(input('digite outro numero aqui: '))\n",
    "n3 = int(input('digite outro numero aqui: '))\n",
    "multi = n1*n2*n3\n",
    "print(multi)"
   ]
  },
  {
   "cell_type": "markdown",
   "metadata": {},
   "source": [
    "Atividade 04: Multiplicação e Divisão!\r\n",
    "\r\n",
    "Construa um algoritmo que receberá 2 números reais (ponto flutuante) e que, em seguida, calcula a média entre eles. Ao final, escreva o resultado obtido no seguinte formato:\r\n",
    "\r\n",
    "A média entre os números X e Y é R."
   ]
  },
  {
   "cell_type": "code",
   "execution_count": 18,
   "metadata": {},
   "outputs": [
    {
     "output_type": "stream",
     "name": "stdout",
     "text": [
      "a media entre os numeros 3.2 e 2.1 é 2.6500000000000004\n"
     ]
    }
   ],
   "source": [
    "X = float(input('digite um numero aqui: '))\n",
    "Y = float(input('digite outro numero aqui: '))\n",
    "media = (X+Y)/2\n",
    "print(f'a media entre os numeros {X} e {Y} é {media}')"
   ]
  },
  {
   "cell_type": "markdown",
   "metadata": {},
   "source": [
    "Atividade 05: Multiplicação e Divisão 2!\r\n",
    "\r\n",
    "Construa um algoritmo que receberá 3 números reais (x, y, e z). Em seguida, realize o seguinte cálculo:\r\n",
    "\r\n",
    "Fórmula: w = (x*y)/z\r\n",
    "\r\n",
    "O primeiro número (x) deverá multiplicar o segundo (y), e o resultado dessa multiplicação deverá ser dividido pelo terceiro número (z). Ao final, escreva o resultado obtido no seguinte formato:\r\n",
    "\r\n",
    "O resultado da expressão é w."
   ]
  },
  {
   "cell_type": "code",
   "execution_count": 23,
   "metadata": {},
   "outputs": [
    {
     "output_type": "stream",
     "name": "stdout",
     "text": [
      "o resultado da expressão 6.6\n"
     ]
    }
   ],
   "source": [
    "X = float(input('digite um numero aqui: '))\n",
    "Y = float(input('digite outro numero aqui: '))\n",
    "Z = float(input('digite outro numero aqui: '))\n",
    "formula = (X*Y)/Z\n",
    "print(f'o resultado da expressão {formula}')"
   ]
  },
  {
   "cell_type": "markdown",
   "metadata": {},
   "source": [
    "Atividade 06: Multiplicação e Divisão 3!\r\n",
    "\r\n",
    "Construa um algoritmo que receberá 3 números reais (ponto flutuante). Em seguida, calcule a média entre esses três números. Ao final, realize apenas a impressão do resultado obtido."
   ]
  },
  {
   "cell_type": "code",
   "execution_count": 21,
   "metadata": {},
   "outputs": [
    {
     "output_type": "stream",
     "name": "stdout",
     "text": [
      "3.3000000000000003\n"
     ]
    }
   ],
   "source": [
    "n1 = float(input('digite um numero aqui: '))\n",
    "n2 = float(input('digite outro numero aqui: '))\n",
    "n3 = float(input('digite outro numero aqui: '))\n",
    "media = (n1+n2+n3)/3\n",
    "print(media)"
   ]
  },
  {
   "cell_type": "markdown",
   "metadata": {},
   "source": [
    "Atividade 07: Multiplicação e Divisão 4!\r\n",
    "\r\n",
    "Construa um algoritmo que receberá 3 números reais. Em seguida, calcula a média ponderada desses três números. Ao final, realize a impressão do resultado obtido. A fórmula dessa média é a seguinte:\r\n",
    "\r\n",
    "media = (nota1*4 + nota2*5 + nota3*6)/15\r\n",
    "\r\n",
    "Observe que o primeiro número (nota1) deverá ser multiplicado por 4, em seguida, o segundo número (nota2) deverá ser multiplicado por 5 e, então, o terceiro número (nota3) deverá ser multiplicado por 6. Essas multiplicações deverão ser somadas e o resultado dessa soma será divido por 15."
   ]
  },
  {
   "cell_type": "code",
   "execution_count": 24,
   "metadata": {},
   "outputs": [
    {
     "output_type": "stream",
     "name": "stdout",
     "text": [
      "3.1333333333333333\n"
     ]
    }
   ],
   "source": [
    "n1 = float(input('digte um numero aqui: '))\n",
    "n2 = float(input('digite outro numero aqui: '))\n",
    "n3 = float(input('digite outro numero aqui: '))\n",
    "media = (n1*4+n2*5+n3*6)/15\n",
    "print(media)"
   ]
  },
  {
   "cell_type": "code",
   "execution_count": null,
   "metadata": {},
   "outputs": [],
   "source": []
  }
 ],
 "metadata": {
  "kernelspec": {
   "name": "python385jvsc74a57bd07a542ca580817fc4dd55327026e074e2fa0cd470fc5dee9350c2d8b13822db8d",
   "display_name": "Python 3.8.5 32-bit"
  },
  "language_info": {
   "name": "python",
   "version": "3.8.5-final"
  },
  "orig_nbformat": 2,
  "metadata": {
   "interpreter": {
    "hash": "7a542ca580817fc4dd55327026e074e2fa0cd470fc5dee9350c2d8b13822db8d"
   }
  }
 },
 "nbformat": 4,
 "nbformat_minor": 2
}