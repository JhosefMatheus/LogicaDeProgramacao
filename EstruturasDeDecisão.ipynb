{
 "cells": [
  {
   "cell_type": "markdown",
   "metadata": {},
   "source": [
    "<b>Atividade 01: Soma!</b>\n",
    "\n",
    "Construa um algoritmo que receberá 2 números inteiros e fará a soma desses números. Ao final, faz a impressão do resultado obtido."
   ]
  },
  {
   "cell_type": "code",
   "execution_count": null,
   "metadata": {},
   "outputs": [],
   "source": []
  },
  {
   "cell_type": "markdown",
   "metadata": {},
   "source": [
    "<b>Atividade 02: Subtração!</b>\n",
    "\n",
    "Construa um algoritmo que receberá 2 números inteiros e fará a subtração desses números. Ao final, faz a impressão do resultado obtido."
   ]
  },
  {
   "cell_type": "code",
   "execution_count": null,
   "metadata": {},
   "outputs": [],
   "source": []
  },
  {
   "cell_type": "markdown",
   "metadata": {},
   "source": [
    "<b>Atividade 03: Multiplicação!</b>\n",
    "\n",
    "Construa um algoritmo que receberá 3 números inteiros (x1, x2 e x3) e que, em seguida, realizará a multiplicação desses números. Ao final, escreva o resultado (r) obtido no seguinte formato:\n",
    "\n",
    "<blockquote>O resultado da multiplicação de x1*x2*x3 é r.</blockquote>"
   ]
  },
  {
   "cell_type": "code",
   "execution_count": null,
   "metadata": {},
   "outputs": [],
   "source": []
  },
  {
   "cell_type": "markdown",
   "metadata": {},
   "source": [
    "<b>Atividade 04: Multiplicação e Divisão!</b>\n",
    "\n",
    "Construa um algoritmo que receberá 2 números reais (ponto flutuante) e que, em seguida, calcula a média entre eles. Ao final, escreva o resultado obtido no seguinte formato:\n",
    "\n",
    "<blockquote>A média entre os números X e Y é R.</blockquote>"
   ]
  },
  {
   "cell_type": "code",
   "execution_count": null,
   "metadata": {},
   "outputs": [],
   "source": []
  },
  {
   "cell_type": "markdown",
   "metadata": {},
   "source": [
    "<b>Atividade 05: Multiplicação e Divisão 2!</b>\n",
    "\n",
    "Construa um algoritmo que receberá 3 números reais (x, y, e z). Em seguida, realize o seguinte cálculo:\n",
    "\n",
    "<blockquote>Fórmula: w = (x*y)/z</blockquote>\n",
    "\n",
    "O primeiro número (x) deverá multiplicar o segundo (y), e o resultado dessa multiplicação deverá ser dividido pelo terceiro número (z). Ao final, escreva o resultado obtido no seguinte formato:\n",
    "\n",
    "<blockquote>O resultado da expressão é w.</blockquote>"
   ]
  },
  {
   "cell_type": "code",
   "execution_count": null,
   "metadata": {},
   "outputs": [],
   "source": []
  },
  {
   "cell_type": "markdown",
   "metadata": {},
   "source": [
    "<b>Atividade 06: Multiplicação e Divisão 3!</b>\n",
    "\n",
    "Construa um algoritmo que receberá 3 números reais (ponto flutuante). Em seguida, calcule a média entre esses três números. Ao final, realize apenas a impressão do resultado obtido."
   ]
  },
  {
   "cell_type": "code",
   "execution_count": null,
   "metadata": {},
   "outputs": [],
   "source": []
  },
  {
   "cell_type": "markdown",
   "metadata": {},
   "source": [
    "<b>Atividade 07: Multiplicação e Divisão 4!</b>\n",
    "\n",
    "Construa um algoritmo que receberá 3 números reais. Em seguida, calcula a média ponderada desses três números. Ao final, realize a impressão do resultado obtido. A fórmula dessa média é a seguinte:\n",
    "\n",
    "<blockquote>media = (nota1*4 + nota2*5 + nota3*6)/15</blockquote>\n",
    "\n",
    "Observe que o primeiro número (nota1) deverá ser multiplicado por 4, em seguida, o segundo número (nota2) deverá ser multiplicado por 5 e, então, o terceiro número (nota3) deverá ser multiplicado por 6. Essas multiplicações deverão ser somadas e o resultado dessa soma será divido por 15."
   ]
  },
  {
   "cell_type": "code",
   "execution_count": null,
   "metadata": {},
   "outputs": [],
   "source": []
  }
 ],
 "metadata": {
  "kernelspec": {
   "display_name": "Python 3",
   "language": "python",
   "name": "python3"
  },
  "language_info": {
   "codemirror_mode": {
    "name": "ipython",
    "version": 3
   },
   "file_extension": ".py",
   "mimetype": "text/x-python",
   "name": "python",
   "nbconvert_exporter": "python",
   "pygments_lexer": "ipython3",
   "version": "3.8.5"
  }
 },
 "nbformat": 4,
 "nbformat_minor": 2
}
