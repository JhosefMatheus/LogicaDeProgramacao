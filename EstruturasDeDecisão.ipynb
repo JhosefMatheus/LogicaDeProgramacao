{
 "cells": [
  {
   "cell_type": "markdown",
   "metadata": {},
   "source": [
    "<b>O Primeiro Comando!</b>\n",
    "    \n",
    "O primeiro comando na maioria das linguagens de programação é o Hello World! No python não é diferente; para fazermos o nosso hello world iremos aprender a função print().\n",
    "\n",
    "A função print() é responsável por exibir alguma coisa no terminal. Por exemplo, se nós quisermos exibir a frase Hello World no terminal basta digitar o seguinte:\n",
    "\n",
    "<blockquote><code>print('Hello World')</code></blockquote>\n",
    "\n",
    "Tente você mesmo na célula abaixo:"
   ]
  },
  {
   "cell_type": "code",
   "execution_count": null,
   "metadata": {},
   "outputs": [],
   "source": []
  },
  {
   "cell_type": "markdown",
   "metadata": {},
   "source": [
    "<b>Trabalhando Com Variáveis!</b>\n",
    "\n",
    "Agora que você já sabe como exibir algo na tela através do comando print() vamos aprender como lidar com variáveis.\n",
    "\n",
    "Variáveis são usadas pra tudo na programação. Sabe essa barra de tarefas aí no seu computador que exibe alguns aplicativos que você colocou aí? Isso é uma variável. \n",
    "\n",
    "A variável é um espaço que nós reservamos na memória do computador para guardar uma informação qualquer. Podemos dizer que a variável é como uma estante onde nós guardamos livros, onde a estante é nossa variável, e o objeto/item que nós queremos guardar na nossa estante são os livros.\n",
    "\n",
    "Nós declaramos uma variável colocando o nome dela, o caractere =, e o valor que a mesma vai receber. Você verá alguns exemplos abaixo, então não se avexe.\n",
    "\n",
    "As variáveis podem armazenar diversos tipos de dados, mas vamos focar em três tipos: inteiro (int), decimal/ponto flutuante(float) e cadeia de caracteres/string (str).\n",
    "\n",
    "Uma variável do tipo inteiro é uma variável que contém um número inteiro dentro dela. Exemplos:\n",
    "\n",
    "<blockquote><code>numero = 18<br>altura_cm = 180<br>idade = 19</code></blockquote>\n",
    "\n",
    "Uma variável do tipo decimal (float) é uma variável que contéum um número decimal dentro da mesma. Exemplos:\n",
    "\n",
    "<blockquote><code>altura_m = 1.80<br>imc = 1.50<br>nota = 7.5</code></blockquote>\n",
    "\n",
    "OBS: se nós declararmos dentro de uma variável o valor 1.0, ela será do tipo float e não do tipo int.\n",
    "\n",
    "Por fim nós temos as variáveis do tipo string (str) que nada mais são do que palavras circundadas de aspas. Exemplos:\n",
    "\n",
    "<blockquote><code>nome = 'Jhosef'<br>sobrenome = 'Matheus'<br>bairro = 'Candelária'</code></blockquote>\n",
    "\n",
    "OBS: as strings podem ser declaradas tanto com aspas simples, como foi feito no exemplo acima, como com aspas duplas, e se nós declararmos um número inteiro/float circundado por aspas ele também será uma string e não um número inteiro ou float.\n",
    "\n",
    "Por fim nós também podemos exibir os valores que estão dentro dessas variáveis com o comando print(), basta colocar dentro dos parênteses do comando print a variável que você deseja exibir."
   ]
  },
  {
   "cell_type": "markdown",
   "metadata": {},
   "source": [
    "<b>Atividade 01: Soma!</b>\n",
    "\n",
    "Construa um algoritmo que receberá 2 números inteiros e fará a soma desses números. Ao final, faz a impressão do resultado obtido."
   ]
  },
  {
   "cell_type": "code",
   "execution_count": null,
   "metadata": {},
   "outputs": [],
   "source": []
  },
  {
   "cell_type": "markdown",
   "metadata": {},
   "source": [
    "<b>Atividade 02: Subtração!</b>\n",
    "\n",
    "Construa um algoritmo que receberá 2 números inteiros e fará a subtração desses números. Ao final, faz a impressão do resultado obtido."
   ]
  },
  {
   "cell_type": "code",
   "execution_count": null,
   "metadata": {},
   "outputs": [],
   "source": []
  },
  {
   "cell_type": "markdown",
   "metadata": {},
   "source": [
    "<b>Atividade 03: Multiplicação!</b>\n",
    "\n",
    "Construa um algoritmo que receberá 3 números inteiros (x1, x2 e x3) e que, em seguida, realizará a multiplicação desses números. Ao final, escreva o resultado (r) obtido no seguinte formato:\n",
    "\n",
    "<blockquote>O resultado da multiplicação de x1*x2*x3 é r.</blockquote>"
   ]
  },
  {
   "cell_type": "code",
   "execution_count": null,
   "metadata": {},
   "outputs": [],
   "source": []
  },
  {
   "cell_type": "markdown",
   "metadata": {},
   "source": [
    "<b>Atividade 04: Multiplicação e Divisão!</b>\n",
    "\n",
    "Construa um algoritmo que receberá 2 números reais (ponto flutuante) e que, em seguida, calcula a média entre eles. Ao final, escreva o resultado obtido no seguinte formato:\n",
    "\n",
    "<blockquote>A média entre os números X e Y é R.</blockquote>"
   ]
  },
  {
   "cell_type": "code",
   "execution_count": null,
   "metadata": {},
   "outputs": [],
   "source": []
  },
  {
   "cell_type": "markdown",
   "metadata": {},
   "source": [
    "<b>Atividade 05: Multiplicação e Divisão 2!</b>\n",
    "\n",
    "Construa um algoritmo que receberá 3 números reais (x, y, e z). Em seguida, realize o seguinte cálculo:\n",
    "\n",
    "<blockquote>Fórmula: w = (x*y)/z</blockquote>\n",
    "\n",
    "O primeiro número (x) deverá multiplicar o segundo (y), e o resultado dessa multiplicação deverá ser dividido pelo terceiro número (z). Ao final, escreva o resultado obtido no seguinte formato:\n",
    "\n",
    "<blockquote>O resultado da expressão é w.</blockquote>"
   ]
  },
  {
   "cell_type": "code",
   "execution_count": null,
   "metadata": {},
   "outputs": [],
   "source": []
  },
  {
   "cell_type": "markdown",
   "metadata": {},
   "source": [
    "<b>Atividade 06: Multiplicação e Divisão 3!</b>\n",
    "\n",
    "Construa um algoritmo que receberá 3 números reais (ponto flutuante). Em seguida, calcule a média entre esses três números. Ao final, realize apenas a impressão do resultado obtido."
   ]
  },
  {
   "cell_type": "code",
   "execution_count": null,
   "metadata": {},
   "outputs": [],
   "source": []
  },
  {
   "cell_type": "markdown",
   "metadata": {},
   "source": [
    "<b>Atividade 07: Multiplicação e Divisão 4!</b>\n",
    "\n",
    "Construa um algoritmo que receberá 3 números reais. Em seguida, calcula a média ponderada desses três números. Ao final, realize a impressão do resultado obtido. A fórmula dessa média é a seguinte:\n",
    "\n",
    "<blockquote>media = (nota1*4 + nota2*5 + nota3*6)/15</blockquote>\n",
    "\n",
    "Observe que o primeiro número (nota1) deverá ser multiplicado por 4, em seguida, o segundo número (nota2) deverá ser multiplicado por 5 e, então, o terceiro número (nota3) deverá ser multiplicado por 6. Essas multiplicações deverão ser somadas e o resultado dessa soma será divido por 15."
   ]
  },
  {
   "cell_type": "code",
   "execution_count": null,
   "metadata": {},
   "outputs": [],
   "source": []
  }
 ],
 "metadata": {
  "kernelspec": {
   "display_name": "Python 3",
   "language": "python",
   "name": "python3"
  },
  "language_info": {
   "codemirror_mode": {
    "name": "ipython",
    "version": 3
   },
   "file_extension": ".py",
   "mimetype": "text/x-python",
   "name": "python",
   "nbconvert_exporter": "python",
   "pygments_lexer": "ipython3",
   "version": "3.8.5"
  }
 },
 "nbformat": 4,
 "nbformat_minor": 2
}
