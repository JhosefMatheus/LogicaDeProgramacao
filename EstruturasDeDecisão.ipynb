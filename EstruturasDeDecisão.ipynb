{
 "cells": [
  {
   "cell_type": "markdown",
   "metadata": {},
   "source": [
    "Atividade 01: Soma!\r\n",
    "\r\n",
    "Construa um algoritmo que receberá 2 números inteiros e fará a soma desses números. Ao final, faz a impressão do resultado obtido."
   ]
  },
  {
   "cell_type": "code",
   "execution_count": null,
   "metadata": {},
   "outputs": [],
   "source": []
  },
  {
   "cell_type": "markdown",
   "metadata": {},
   "source": [
    "Atividade 02: Subtração!\r\n",
    "\r\n",
    "Construa um algoritmo que receberá 2 números inteiros e fará a subtração desses números. Ao final, faz a impressão do resultado obtido."
   ]
  },
  {
   "cell_type": "code",
   "execution_count": null,
   "metadata": {},
   "outputs": [],
   "source": []
  },
  {
   "cell_type": "markdown",
   "metadata": {},
   "source": [
    "Atividade 03: Multiplicação!\r\n",
    "\r\n",
    "Construa um algoritmo que receberá 3 números inteiros (x1, x2 e x3) e que, em seguida, realizará a multiplicação desses números. Ao final, escreva o resultado (r) obtido no seguinte formato:\r\n",
    "\r\n",
    "O resultado da multiplicação de x1*x2*x3 é r."
   ]
  },
  {
   "cell_type": "code",
   "execution_count": null,
   "metadata": {},
   "outputs": [],
   "source": []
  },
  {
   "cell_type": "markdown",
   "metadata": {},
   "source": [
    "Atividade 04: Multiplicação e Divisão!\r\n",
    "\r\n",
    "Construa um algoritmo que receberá 2 números reais (ponto flutuante) e que, em seguida, calcula a média entre eles. Ao final, escreva o resultado obtido no seguinte formato:\r\n",
    "\r\n",
    "A média entre os números X e Y é R."
   ]
  },
  {
   "cell_type": "code",
   "execution_count": null,
   "metadata": {},
   "outputs": [],
   "source": []
  },
  {
   "cell_type": "markdown",
   "metadata": {},
   "source": [
    "Atividade 05: Multiplicação e Divisão 2!\r\n",
    "\r\n",
    "Construa um algoritmo que receberá 3 números reais (x, y, e z). Em seguida, realize o seguinte cálculo:\r\n",
    "\r\n",
    "Fórmula: w = (x*y)/z\r\n",
    "\r\n",
    "O primeiro número (x) deverá multiplicar o segundo (y), e o resultado dessa multiplicação deverá ser dividido pelo terceiro número (z). Ao final, escreva o resultado obtido no seguinte formato:\r\n",
    "\r\n",
    "O resultado da expressão é w."
   ]
  },
  {
   "cell_type": "code",
   "execution_count": null,
   "metadata": {},
   "outputs": [],
   "source": []
  },
  {
   "cell_type": "markdown",
   "metadata": {},
   "source": [
    "Atividade 06: Multiplicação e Divisão 3!\r\n",
    "\r\n",
    "Construa um algoritmo que receberá 3 números reais (ponto flutuante). Em seguida, calcule a média entre esses três números. Ao final, realize apenas a impressão do resultado obtido."
   ]
  },
  {
   "cell_type": "code",
   "execution_count": null,
   "metadata": {},
   "outputs": [],
   "source": []
  },
  {
   "cell_type": "markdown",
   "metadata": {},
   "source": [
    "Atividade 07: Multiplicação e Divisão 4!\r\n",
    "\r\n",
    "Construa um algoritmo que receberá 3 números reais. Em seguida, calcula a média ponderada desses três números. Ao final, realize a impressão do resultado obtido. A fórmula dessa média é a seguinte:\r\n",
    "\r\n",
    "media = (nota1*4 + nota2*5 + nota3*6)/15\r\n",
    "\r\n",
    "Observe que o primeiro número (nota1) deverá ser multiplicado por 4, em seguida, o segundo número (nota2) deverá ser multiplicado por 5 e, então, o terceiro número (nota3) deverá ser multiplicado por 6. Essas multiplicações deverão ser somadas e o resultado dessa soma será divido por 15."
   ]
  },
  {
   "cell_type": "code",
   "execution_count": null,
   "metadata": {},
   "outputs": [],
   "source": []
  }
 ],
 "metadata": {
  "kernelspec": {
   "display_name": "Python 3.9.1 64-bit",
   "name": "python391jvsc74a57bd06a7d6ab876b9185e3d8b014fb66fe83b462d5dbd30e2289e5e3f0420c989e0ff"
  },
  "language_info": {
   "name": "python",
   "version": ""
  },
  "orig_nbformat": 2
 },
 "nbformat": 4,
 "nbformat_minor": 2
}